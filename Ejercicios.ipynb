{
  "nbformat": 4,
  "nbformat_minor": 0,
  "metadata": {
    "colab": {
      "name": "Ejercicios",
      "provenance": [],
      "authorship_tag": "ABX9TyOaPiKAqzRL+Qwckf4d8s7r",
      "include_colab_link": true
    },
    "kernelspec": {
      "name": "python3",
      "display_name": "Python 3"
    },
    "language_info": {
      "name": "python"
    }
  },
  "cells": [
    {
      "cell_type": "markdown",
      "metadata": {
        "id": "view-in-github",
        "colab_type": "text"
      },
      "source": [
        "<a href=\"https://colab.research.google.com/github/jaemunoz8/Curso2/blob/master/Ejercicios.ipynb\" target=\"_parent\"><img src=\"https://colab.research.google.com/assets/colab-badge.svg\" alt=\"Open In Colab\"/></a>"
      ]
    },
    {
      "cell_type": "code",
      "execution_count": null,
      "metadata": {
        "colab": {
          "base_uri": "https://localhost:8080/"
        },
        "id": "zgFJe1OG2m4w",
        "outputId": "b2754fd0-a9cc-4bd1-a19e-c58c6c7d6548"
      },
      "outputs": [
        {
          "output_type": "stream",
          "name": "stdout",
          "text": [
            "Downloading data from https://storage.googleapis.com/tensorflow/tf-keras-datasets/mnist.npz\n",
            "11493376/11490434 [==============================] - 0s 0us/step\n",
            "11501568/11490434 [==============================] - 0s 0us/step\n"
          ]
        },
        {
          "output_type": "execute_result",
          "data": {
            "text/plain": [
              "(60000, 14, 14)"
            ]
          },
          "metadata": {},
          "execution_count": 14
        }
      ],
      "source": [
        "from keras.datasets import mnist\n",
        "(train_images, train_labels), (test_images, test_labels) = mnist.load_data()\n",
        "seleccion = train_images[:,14:28,14:28]\n",
        "seleccion.shape"
      ]
    },
    {
      "cell_type": "code",
      "source": [
        "digit = train_images[9]\n",
        "import matplotlib.pyplot as plt\n",
        "plt.imshow(seleccion[9], cmap=plt.cm.binary)"
      ],
      "metadata": {
        "colab": {
          "base_uri": "https://localhost:8080/",
          "height": 282
        },
        "id": "TZmRzwEE2oOB",
        "outputId": "5ac90c12-8e11-43c2-a635-c74d6d546b52"
      },
      "execution_count": null,
      "outputs": [
        {
          "output_type": "execute_result",
          "data": {
            "text/plain": [
              "<matplotlib.image.AxesImage at 0x7f54a4c24f10>"
            ]
          },
          "metadata": {},
          "execution_count": 15
        },
        {
          "output_type": "display_data",
          "data": {
            "text/plain": [
              "<Figure size 432x288 with 1 Axes>"
            ],
            "image/png": "[encoded data removed]"
          },
          "metadata": {
            "needs_background": "light"
          }
        }
      ]
    },
    {
      "cell_type": "code",
      "source": [
        "vec1 =[588,11,95,23,86,589,2,3,5,455]\n",
        "#vec1\n",
        "\n",
        "def maximo(vect):\n",
        "  import numpy as np\n",
        "  maxx=0\n",
        "  for i in np.arange(0,len(vect),1):\n",
        "    if maxx >= int(vect[i]):\n",
        "      maxx = maxx \n",
        "    else:\n",
        "      maxx = vect[i]\n",
        "  return(maxx)  \n",
        "\n",
        "maximo(vec1)\n",
        "#vec1\n"
      ],
      "metadata": {
        "colab": {
          "base_uri": "https://localhost:8080/"
        },
        "id": "hTwp57t0Djbm",
        "outputId": "0c713ae1-5e9c-4e16-9657-6ac661d3cba0"
      },
      "execution_count": null,
      "outputs": [
        {
          "output_type": "execute_result",
          "data": {
            "text/plain": [
              "589"
            ]
          },
          "metadata": {},
          "execution_count": 16
        }
      ]
    },
    {
      "cell_type": "code",
      "source": [
        "import matplotlib.pyplot as plt\n",
        "class Point:\n",
        "  def translate(x,y):\n",
        "    x=x\n",
        "    y=y\n",
        "    return __str__(x,y)\n",
        "\n",
        "  def __str__(self,x,y):\n",
        "     plt.scatter(x,y,marker='x')\n",
        "\n",
        "punto = Point()\n",
        "punto.__str__(2,40.1)"
      ],
      "metadata": {
        "colab": {
          "base_uri": "https://localhost:8080/",
          "height": 265
        },
        "id": "lc6g_nCO60jD",
        "outputId": "286be6d9-c5f8-4717-97ce-3dbbb87fc672"
      },
      "execution_count": null,
      "outputs": [
        {
          "output_type": "display_data",
          "data": {
            "text/plain": [
              "<Figure size 432x288 with 1 Axes>"
            ],
            "image/png": "[encoded data removed]"
          },
          "metadata": {
            "needs_background": "light"
          }
        }
      ]
    },
    {
      "cell_type": "code",
      "source": [
        "from google.colab import files\n",
        "uploaded = files.upload() #subo la imagen en resolución 28x28\n",
        "import cv2\n",
        "data = cv2.imread(uploaded,cv2.IMREAD_GRAYSCALE)\n",
        "print(data)\n",
        "y_pred = model.predict(X_new.reshape(1,28,28))"
      ],
      "metadata": {
        "colab": {
          "resources": {
            "http://localhost:8080/nbextensions/google.colab/files.js": {
              "data": "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",
              "ok": true,
              "headers": [
                [
                  "content-type",
                  "application/javascript"
                ]
              ],
              "status": 200,
              "status_text": ""
            }
          },
          "base_uri": "https://localhost:8080/",
          "height": 401
        },
        "id": "rxGQ5O7S62t9",
        "outputId": "2bb46dc4-9c65-4243-c542-27ee89f745e6"
      },
      "execution_count": null,
      "outputs": [
        {
          "output_type": "display_data",
          "data": {
            "text/plain": [
              "<IPython.core.display.HTML object>"
            ],
            "text/html": [
              "\n",
              "     <input type=\"file\" id=\"files-16874783-a56c-44e8-8f5f-1497a2d52ec0\" name=\"files[]\" multiple disabled\n",
              "        style=\"border:none\" />\n",
              "     <output id=\"result-16874783-a56c-44e8-8f5f-1497a2d52ec0\">\n",
              "      Upload widget is only available when the cell has been executed in the\n",
              "      current browser session. Please rerun this cell to enable.\n",
              "      </output>\n",
              "      <script src=\"/nbextensions/google.colab/files.js\"></script> "
            ]
          },
          "metadata": {}
        },
        {
          "output_type": "error",
          "ename": "KeyboardInterrupt",
          "evalue": "ignored",
          "traceback": [
            "\u001b[0;31m---------------------------------------------------------------------------\u001b[0m",
            "\u001b[0;31mKeyboardInterrupt\u001b[0m                         Traceback (most recent call last)",
            "\u001b[0;32m<ipython-input-19-5343ea18a498>\u001b[0m in \u001b[0;36m<module>\u001b[0;34m()\u001b[0m\n\u001b[1;32m      1\u001b[0m \u001b[0;32mfrom\u001b[0m \u001b[0mgoogle\u001b[0m\u001b[0;34m.\u001b[0m\u001b[0mcolab\u001b[0m \u001b[0;32mimport\u001b[0m \u001b[0mfiles\u001b[0m\u001b[0;34m\u001b[0m\u001b[0;34m\u001b[0m\u001b[0m\n\u001b[0;32m----> 2\u001b[0;31m \u001b[0muploaded\u001b[0m \u001b[0;34m=\u001b[0m \u001b[0mfiles\u001b[0m\u001b[0;34m.\u001b[0m\u001b[0mupload\u001b[0m\u001b[0;34m(\u001b[0m\u001b[0;34m)\u001b[0m \u001b[0;31m#subo la imagen en resolución 28x28\u001b[0m\u001b[0;34m\u001b[0m\u001b[0;34m\u001b[0m\u001b[0m\n\u001b[0m\u001b[1;32m      3\u001b[0m \u001b[0;32mimport\u001b[0m \u001b[0mcv2\u001b[0m\u001b[0;34m\u001b[0m\u001b[0;34m\u001b[0m\u001b[0m\n\u001b[1;32m      4\u001b[0m \u001b[0mdata\u001b[0m \u001b[0;34m=\u001b[0m \u001b[0mcv2\u001b[0m\u001b[0;34m.\u001b[0m\u001b[0mimread\u001b[0m\u001b[0;34m(\u001b[0m\u001b[0muploaded\u001b[0m\u001b[0;34m,\u001b[0m\u001b[0mcv2\u001b[0m\u001b[0;34m.\u001b[0m\u001b[0mIMREAD_GRAYSCALE\u001b[0m\u001b[0;34m)\u001b[0m\u001b[0;34m\u001b[0m\u001b[0;34m\u001b[0m\u001b[0m\n\u001b[1;32m      5\u001b[0m \u001b[0mprint\u001b[0m\u001b[0;34m(\u001b[0m\u001b[0mdata\u001b[0m\u001b[0;34m)\u001b[0m\u001b[0;34m\u001b[0m\u001b[0;34m\u001b[0m\u001b[0m\n",
            "\u001b[0;32m/usr/local/lib/python3.7/dist-packages/google/colab/files.py\u001b[0m in \u001b[0;36mupload\u001b[0;34m()\u001b[0m\n\u001b[1;32m     39\u001b[0m   \"\"\"\n\u001b[1;32m     40\u001b[0m \u001b[0;34m\u001b[0m\u001b[0m\n\u001b[0;32m---> 41\u001b[0;31m   \u001b[0muploaded_files\u001b[0m \u001b[0;34m=\u001b[0m \u001b[0m_upload_files\u001b[0m\u001b[0;34m(\u001b[0m\u001b[0mmultiple\u001b[0m\u001b[0;34m=\u001b[0m\u001b[0;32mTrue\u001b[0m\u001b[0;34m)\u001b[0m\u001b[0;34m\u001b[0m\u001b[0;34m\u001b[0m\u001b[0m\n\u001b[0m\u001b[1;32m     42\u001b[0m   \u001b[0;31m# Mapping from original filename to filename as saved locally.\u001b[0m\u001b[0;34m\u001b[0m\u001b[0;34m\u001b[0m\u001b[0;34m\u001b[0m\u001b[0m\n\u001b[1;32m     43\u001b[0m   \u001b[0mlocal_filenames\u001b[0m \u001b[0;34m=\u001b[0m \u001b[0mdict\u001b[0m\u001b[0;34m(\u001b[0m\u001b[0;34m)\u001b[0m\u001b[0;34m\u001b[0m\u001b[0;34m\u001b[0m\u001b[0m\n",
            "\u001b[0;32m/usr/local/lib/python3.7/dist-packages/google/colab/files.py\u001b[0m in \u001b[0;36m_upload_files\u001b[0;34m(multiple)\u001b[0m\n\u001b[1;32m    116\u001b[0m   result = _output.eval_js(\n\u001b[1;32m    117\u001b[0m       'google.colab._files._uploadFiles(\"{input_id}\", \"{output_id}\")'.format(\n\u001b[0;32m--> 118\u001b[0;31m           input_id=input_id, output_id=output_id))\n\u001b[0m\u001b[1;32m    119\u001b[0m   \u001b[0mfiles\u001b[0m \u001b[0;34m=\u001b[0m \u001b[0m_collections\u001b[0m\u001b[0;34m.\u001b[0m\u001b[0mdefaultdict\u001b[0m\u001b[0;34m(\u001b[0m\u001b[0mbytes\u001b[0m\u001b[0;34m)\u001b[0m\u001b[0;34m\u001b[0m\u001b[0;34m\u001b[0m\u001b[0m\n\u001b[1;32m    120\u001b[0m \u001b[0;34m\u001b[0m\u001b[0m\n",
            "\u001b[0;32m/usr/local/lib/python3.7/dist-packages/google/colab/output/_js.py\u001b[0m in \u001b[0;36meval_js\u001b[0;34m(script, ignore_result, timeout_sec)\u001b[0m\n\u001b[1;32m     38\u001b[0m   \u001b[0;32mif\u001b[0m \u001b[0mignore_result\u001b[0m\u001b[0;34m:\u001b[0m\u001b[0;34m\u001b[0m\u001b[0;34m\u001b[0m\u001b[0m\n\u001b[1;32m     39\u001b[0m     \u001b[0;32mreturn\u001b[0m\u001b[0;34m\u001b[0m\u001b[0;34m\u001b[0m\u001b[0m\n\u001b[0;32m---> 40\u001b[0;31m   \u001b[0;32mreturn\u001b[0m \u001b[0m_message\u001b[0m\u001b[0;34m.\u001b[0m\u001b[0mread_reply_from_input\u001b[0m\u001b[0;34m(\u001b[0m\u001b[0mrequest_id\u001b[0m\u001b[0;34m,\u001b[0m \u001b[0mtimeout_sec\u001b[0m\u001b[0;34m)\u001b[0m\u001b[0;34m\u001b[0m\u001b[0;34m\u001b[0m\u001b[0m\n\u001b[0m\u001b[1;32m     41\u001b[0m \u001b[0;34m\u001b[0m\u001b[0m\n\u001b[1;32m     42\u001b[0m \u001b[0;34m\u001b[0m\u001b[0m\n",
            "\u001b[0;32m/usr/local/lib/python3.7/dist-packages/google/colab/_message.py\u001b[0m in \u001b[0;36mread_reply_from_input\u001b[0;34m(message_id, timeout_sec)\u001b[0m\n\u001b[1;32m     95\u001b[0m     \u001b[0mreply\u001b[0m \u001b[0;34m=\u001b[0m \u001b[0m_read_next_input_message\u001b[0m\u001b[0;34m(\u001b[0m\u001b[0;34m)\u001b[0m\u001b[0;34m\u001b[0m\u001b[0;34m\u001b[0m\u001b[0m\n\u001b[1;32m     96\u001b[0m     \u001b[0;32mif\u001b[0m \u001b[0mreply\u001b[0m \u001b[0;34m==\u001b[0m \u001b[0m_NOT_READY\u001b[0m \u001b[0;32mor\u001b[0m \u001b[0;32mnot\u001b[0m \u001b[0misinstance\u001b[0m\u001b[0;34m(\u001b[0m\u001b[0mreply\u001b[0m\u001b[0;34m,\u001b[0m \u001b[0mdict\u001b[0m\u001b[0;34m)\u001b[0m\u001b[0;34m:\u001b[0m\u001b[0;34m\u001b[0m\u001b[0;34m\u001b[0m\u001b[0m\n\u001b[0;32m---> 97\u001b[0;31m       \u001b[0mtime\u001b[0m\u001b[0;34m.\u001b[0m\u001b[0msleep\u001b[0m\u001b[0;34m(\u001b[0m\u001b[0;36m0.025\u001b[0m\u001b[0;34m)\u001b[0m\u001b[0;34m\u001b[0m\u001b[0;34m\u001b[0m\u001b[0m\n\u001b[0m\u001b[1;32m     98\u001b[0m       \u001b[0;32mcontinue\u001b[0m\u001b[0;34m\u001b[0m\u001b[0;34m\u001b[0m\u001b[0m\n\u001b[1;32m     99\u001b[0m     if (reply.get('type') == 'colab_reply' and\n",
            "\u001b[0;31mKeyboardInterrupt\u001b[0m: "
          ]
        }
      ]
    },
    {
      "cell_type": "code",
      "source": [
        "import pandas as pd\n",
        "import numpy as np\n",
        "data = pd.read_csv('https://raw.githubusercontent.com/diplomado-bigdata-machinelearning-udea/Curso2/master/Datasets/titanic.csv')\n",
        "data.drop(['PassengerId','Name','Ticket','Cabin','Embarked'], axis=1, inplace=True)"
      ],
      "metadata": {
        "id": "8xxCEM-xyfsN"
      },
      "execution_count": null,
      "outputs": []
    },
    {
      "cell_type": "code",
      "source": [
        "from sklearn.model_selection import train_test_split"
      ],
      "metadata": {
        "id": "kzUZ3UpBhe3k"
      },
      "execution_count": null,
      "outputs": []
    },
    {
      "cell_type": "code",
      "source": [
        "X_train, X_test, y_train, y_test = train_test_split(data.iloc[:,1:], data.iloc[:,0],test_size = 0.2, random_state=0)"
      ],
      "metadata": {
        "id": "uYXAVGYDhuwr"
      },
      "execution_count": null,
      "outputs": []
    },
    {
      "cell_type": "code",
      "source": [
        "from tensorflow import keras\n",
        "model = keras.models.Sequential([\n",
        "                                 keras.layers.Dense(16,activation='sigmoid', input_shape=(6,)),\n",
        "                                 keras.layers.Dense(16,activation='sigmoid'),\n",
        "                                 keras.layers.Dense(1, activation='tanh')\n",
        "])"
      ],
      "metadata": {
        "id": "YUPRJLjzh6JH"
      },
      "execution_count": null,
      "outputs": []
    },
    {
      "cell_type": "code",
      "source": [
        "model.compile(optimizer='sgd', loss='binary_crossentropy', metrics=['accuracy'])"
      ],
      "metadata": {
        "id": "2J4bxvwciG4b"
      },
      "execution_count": null,
      "outputs": []
    },
    {
      "cell_type": "code",
      "source": [
        "from sklearn.impute import SimpleImputer\n",
        "imp = SimpleImputer(missing_values=np.nan, strategy='mean')\n",
        "data.loc[data['Survived']==1,['Age']]=imp.fit_transform(data.loc[data['Survived']==1,['Age']])\n",
        "data.loc[data['Survived']==0,['Age']]=imp.fit_transform(data.loc[data['Survived']==0,['Age']])\n",
        "data=pd.get_dummies(data)\n",
        "data['Family_size']=data['SibSp'] + data['Parch']\n",
        "data.drop(['SibSp', 'Parch'] ,axis=1, inplace=True)\n",
        "from sklearn.model_selection import train_test_split\n",
        "X_train, X_test, y_train, y_test = train_test_split(data.iloc[:,1:], data.iloc[:,0],test_size = 0.2, random_state=0)\n",
        "\n",
        "\n",
        "from sklearn.preprocessing import StandardScaler\n",
        "scaler = StandardScaler()\n",
        "X_train_scaled = scaler.fit_transform(X_train)\n",
        "X_test_scaled = scaler.transform(X_test)"
      ],
      "metadata": {
        "id": "oUCzcLBhi27_"
      },
      "execution_count": null,
      "outputs": []
    },
    {
      "cell_type": "code",
      "source": [
        "from sklearn.model_selection import train_test_split\n",
        "X_train, X_test, y_train, y_test = train_test_split(data.iloc[:,1:], data.iloc[:,0],test_size = 0.2, random_state=0)"
      ],
      "metadata": {
        "id": "i--Up_K5kzwt"
      },
      "execution_count": null,
      "outputs": []
    },
    {
      "cell_type": "code",
      "source": [
        "history=model.fit(X_train,y_train, epochs=50, validation_split=0.2)"
      ],
      "metadata": {
        "colab": {
          "base_uri": "https://localhost:8080/"
        },
        "id": "dE5RaZJeiXoR",
        "outputId": "3aab0347-7ec5-4b7f-bfd1-da7f6a2e37d1"
      },
      "execution_count": null,
      "outputs": [
        {
          "output_type": "stream",
          "name": "stdout",
          "text": [
            "Epoch 1/50\n",
            "18/18 [==============================] - 1s 15ms/step - loss: 5.6386 - accuracy: 0.6344 - val_loss: 7.0113 - val_accuracy: 0.5455\n",
            "Epoch 2/50\n",
            "18/18 [==============================] - 0s 3ms/step - loss: 5.6386 - accuracy: 0.6344 - val_loss: 7.0113 - val_accuracy: 0.5455\n",
            "Epoch 3/50\n",
            "18/18 [==============================] - 0s 3ms/step - loss: 5.6386 - accuracy: 0.6344 - val_loss: 7.0113 - val_accuracy: 0.5455\n",
            "Epoch 4/50\n",
            "18/18 [==============================] - 0s 4ms/step - loss: 5.6386 - accuracy: 0.6344 - val_loss: 7.0113 - val_accuracy: 0.5455\n",
            "Epoch 5/50\n",
            "18/18 [==============================] - 0s 4ms/step - loss: 5.6386 - accuracy: 0.6344 - val_loss: 7.0113 - val_accuracy: 0.5455\n",
            "Epoch 6/50\n",
            "18/18 [==============================] - 0s 4ms/step - loss: 5.6386 - accuracy: 0.6344 - val_loss: 7.0113 - val_accuracy: 0.5455\n",
            "Epoch 7/50\n",
            "18/18 [==============================] - 0s 5ms/step - loss: 5.6386 - accuracy: 0.6344 - val_loss: 7.0113 - val_accuracy: 0.5455\n",
            "Epoch 8/50\n",
            "18/18 [==============================] - 0s 4ms/step - loss: 5.6386 - accuracy: 0.6344 - val_loss: 7.0113 - val_accuracy: 0.5455\n",
            "Epoch 9/50\n",
            "18/18 [==============================] - 0s 4ms/step - loss: 5.6386 - accuracy: 0.6344 - val_loss: 7.0113 - val_accuracy: 0.5455\n",
            "Epoch 10/50\n",
            "18/18 [==============================] - 0s 4ms/step - loss: 5.6386 - accuracy: 0.6344 - val_loss: 7.0113 - val_accuracy: 0.5455\n",
            "Epoch 11/50\n",
            "18/18 [==============================] - 0s 4ms/step - loss: 5.6386 - accuracy: 0.6344 - val_loss: 7.0113 - val_accuracy: 0.5455\n",
            "Epoch 12/50\n",
            "18/18 [==============================] - 0s 4ms/step - loss: 5.6386 - accuracy: 0.6344 - val_loss: 7.0113 - val_accuracy: 0.5455\n",
            "Epoch 13/50\n",
            "18/18 [==============================] - 0s 4ms/step - loss: 5.6386 - accuracy: 0.6344 - val_loss: 7.0113 - val_accuracy: 0.5455\n",
            "Epoch 14/50\n",
            "18/18 [==============================] - 0s 3ms/step - loss: 5.6386 - accuracy: 0.6344 - val_loss: 7.0113 - val_accuracy: 0.5455\n",
            "Epoch 15/50\n",
            "18/18 [==============================] - 0s 4ms/step - loss: 5.6386 - accuracy: 0.6344 - val_loss: 7.0113 - val_accuracy: 0.5455\n",
            "Epoch 16/50\n",
            "18/18 [==============================] - 0s 3ms/step - loss: 5.6386 - accuracy: 0.6344 - val_loss: 7.0113 - val_accuracy: 0.5455\n",
            "Epoch 17/50\n",
            "18/18 [==============================] - 0s 3ms/step - loss: 5.6386 - accuracy: 0.6344 - val_loss: 7.0113 - val_accuracy: 0.5455\n",
            "Epoch 18/50\n",
            "18/18 [==============================] - 0s 4ms/step - loss: 5.6386 - accuracy: 0.6344 - val_loss: 7.0113 - val_accuracy: 0.5455\n",
            "Epoch 19/50\n",
            "18/18 [==============================] - 0s 3ms/step - loss: 5.6386 - accuracy: 0.6344 - val_loss: 7.0113 - val_accuracy: 0.5455\n",
            "Epoch 20/50\n",
            "18/18 [==============================] - 0s 4ms/step - loss: 5.6386 - accuracy: 0.6344 - val_loss: 7.0113 - val_accuracy: 0.5455\n",
            "Epoch 21/50\n",
            "18/18 [==============================] - 0s 5ms/step - loss: 5.6386 - accuracy: 0.6344 - val_loss: 7.0113 - val_accuracy: 0.5455\n",
            "Epoch 22/50\n",
            "18/18 [==============================] - 0s 4ms/step - loss: 5.6386 - accuracy: 0.6344 - val_loss: 7.0113 - val_accuracy: 0.5455\n",
            "Epoch 23/50\n",
            "18/18 [==============================] - 0s 4ms/step - loss: 5.6386 - accuracy: 0.6344 - val_loss: 7.0113 - val_accuracy: 0.5455\n",
            "Epoch 24/50\n",
            "18/18 [==============================] - 0s 3ms/step - loss: 5.6386 - accuracy: 0.6344 - val_loss: 7.0113 - val_accuracy: 0.5455\n",
            "Epoch 25/50\n",
            "18/18 [==============================] - 0s 4ms/step - loss: 5.6386 - accuracy: 0.6344 - val_loss: 7.0113 - val_accuracy: 0.5455\n",
            "Epoch 26/50\n",
            "18/18 [==============================] - 0s 4ms/step - loss: 5.6386 - accuracy: 0.6344 - val_loss: 7.0113 - val_accuracy: 0.5455\n",
            "Epoch 27/50\n",
            "18/18 [==============================] - 0s 5ms/step - loss: 5.6386 - accuracy: 0.6344 - val_loss: 7.0113 - val_accuracy: 0.5455\n",
            "Epoch 28/50\n",
            "18/18 [==============================] - 0s 4ms/step - loss: 5.6386 - accuracy: 0.6344 - val_loss: 7.0113 - val_accuracy: 0.5455\n",
            "Epoch 29/50\n",
            "18/18 [==============================] - 0s 4ms/step - loss: 5.6386 - accuracy: 0.6344 - val_loss: 7.0113 - val_accuracy: 0.5455\n",
            "Epoch 30/50\n",
            "18/18 [==============================] - 0s 3ms/step - loss: 5.6386 - accuracy: 0.6344 - val_loss: 7.0113 - val_accuracy: 0.5455\n",
            "Epoch 31/50\n",
            "18/18 [==============================] - 0s 4ms/step - loss: 5.6386 - accuracy: 0.6344 - val_loss: 7.0113 - val_accuracy: 0.5455\n",
            "Epoch 32/50\n",
            "18/18 [==============================] - 0s 3ms/step - loss: 5.6386 - accuracy: 0.6344 - val_loss: 7.0113 - val_accuracy: 0.5455\n",
            "Epoch 33/50\n",
            "18/18 [==============================] - 0s 4ms/step - loss: 5.6386 - accuracy: 0.6344 - val_loss: 7.0113 - val_accuracy: 0.5455\n",
            "Epoch 34/50\n",
            "18/18 [==============================] - 0s 3ms/step - loss: 5.6386 - accuracy: 0.6344 - val_loss: 7.0113 - val_accuracy: 0.5455\n",
            "Epoch 35/50\n",
            "18/18 [==============================] - 0s 3ms/step - loss: 5.6386 - accuracy: 0.6344 - val_loss: 7.0113 - val_accuracy: 0.5455\n",
            "Epoch 36/50\n",
            "18/18 [==============================] - 0s 4ms/step - loss: 5.6386 - accuracy: 0.6344 - val_loss: 7.0113 - val_accuracy: 0.5455\n",
            "Epoch 37/50\n",
            "18/18 [==============================] - 0s 3ms/step - loss: 5.6386 - accuracy: 0.6344 - val_loss: 7.0113 - val_accuracy: 0.5455\n",
            "Epoch 38/50\n",
            "18/18 [==============================] - 0s 3ms/step - loss: 5.6386 - accuracy: 0.6344 - val_loss: 7.0113 - val_accuracy: 0.5455\n",
            "Epoch 39/50\n",
            "18/18 [==============================] - 0s 3ms/step - loss: 5.6386 - accuracy: 0.6344 - val_loss: 7.0113 - val_accuracy: 0.5455\n",
            "Epoch 40/50\n",
            "18/18 [==============================] - 0s 4ms/step - loss: 5.6386 - accuracy: 0.6344 - val_loss: 7.0113 - val_accuracy: 0.5455\n",
            "Epoch 41/50\n",
            "18/18 [==============================] - 0s 3ms/step - loss: 5.6386 - accuracy: 0.6344 - val_loss: 7.0113 - val_accuracy: 0.5455\n",
            "Epoch 42/50\n",
            "18/18 [==============================] - 0s 3ms/step - loss: 5.6386 - accuracy: 0.6344 - val_loss: 7.0113 - val_accuracy: 0.5455\n",
            "Epoch 43/50\n",
            "18/18 [==============================] - 0s 4ms/step - loss: 5.6386 - accuracy: 0.6344 - val_loss: 7.0113 - val_accuracy: 0.5455\n",
            "Epoch 44/50\n",
            "18/18 [==============================] - 0s 4ms/step - loss: 5.6386 - accuracy: 0.6344 - val_loss: 7.0113 - val_accuracy: 0.5455\n",
            "Epoch 45/50\n",
            "18/18 [==============================] - 0s 3ms/step - loss: 5.6386 - accuracy: 0.6344 - val_loss: 7.0113 - val_accuracy: 0.5455\n",
            "Epoch 46/50\n",
            "18/18 [==============================] - 0s 4ms/step - loss: 5.6386 - accuracy: 0.6344 - val_loss: 7.0113 - val_accuracy: 0.5455\n",
            "Epoch 47/50\n",
            "18/18 [==============================] - 0s 3ms/step - loss: 5.6386 - accuracy: 0.6344 - val_loss: 7.0113 - val_accuracy: 0.5455\n",
            "Epoch 48/50\n",
            "18/18 [==============================] - 0s 4ms/step - loss: 5.6386 - accuracy: 0.6344 - val_loss: 7.0113 - val_accuracy: 0.5455\n",
            "Epoch 49/50\n",
            "18/18 [==============================] - 0s 3ms/step - loss: 5.6386 - accuracy: 0.6344 - val_loss: 7.0113 - val_accuracy: 0.5455\n",
            "Epoch 50/50\n",
            "18/18 [==============================] - 0s 4ms/step - loss: 5.6386 - accuracy: 0.6344 - val_loss: 7.0113 - val_accuracy: 0.5455\n"
          ]
        }
      ]
    },
    {
      "cell_type": "code",
      "source": [],
      "metadata": {
        "id": "OslSiBK-k-_F"
      },
      "execution_count": null,
      "outputs": []
    },
    {
      "cell_type": "code",
      "source": [
        "from sklearn.pipeline import Pipeline\n",
        "from sklearn.pipeline import make_pipeline\n",
        "from sklearn.preprocessing import StandardScaler\n",
        "from sklearn.decomposition import PCA\n",
        "from sklearn.tree import DecisionTreeClassifier\n",
        "model=make_pipeline(StandardScaler(),PCA(n_components=2),DecisionTreeClassifier(random_state=42))\n",
        "model.fit(X_train,y_train)\n",
        "model.score(X_test,y_test)"
      ],
      "metadata": {
        "id": "yQCutYrXk_d5",
        "colab": {
          "base_uri": "https://localhost:8080/"
        },
        "outputId": "20bea184-4211-4850-fce0-57009d510cc0"
      },
      "execution_count": null,
      "outputs": [
        {
          "output_type": "execute_result",
          "data": {
            "text/plain": [
              "0.776536312849162"
            ]
          },
          "metadata": {},
          "execution_count": 28
        }
      ]
    },
    {
      "cell_type": "code",
      "source": [
        "from pandas.core.frame import DataFrame\n",
        "from sklearn import datasets\n",
        "from sklearn.preprocessing import StandardScaler\n",
        "import pandas as pd\n",
        "import numpy as np\n",
        "from sklearn.model_selection import train_test_split\n",
        "from sklearn.pipeline import make_pipeline\n",
        "from sklearn.neighbors import KNeighborsClassifier\n",
        "from sklearn.model_selection import cross_val_score\n",
        "data = datasets.load_iris(as_frame=True)\n",
        "df=data.frame\n",
        "X_train, X_test, y_train, y_test = train_test_split(df.iloc[:,1:], df.iloc[:,0],test_size = 0.2, random_state=0)\n",
        "print(X_train.shape)\n",
        "print(y_train.shape)\n",
        "X_train.head(3)\n",
        "# print(data.)\n",
        "\n",
        "pip=make_pipeline(StandardScaler(),KNeighborsClassifier(n_neighbors=1))\n",
        "validacion=cross_val_score(pip,data.data,data.target,cv=5)\n",
        "print(validacion)\n",
        "print(validacion.mean())"
      ],
      "metadata": {
        "id": "ij0dh9ItSR7V",
        "colab": {
          "base_uri": "https://localhost:8080/"
        },
        "outputId": "ae6de29b-96f3-40a3-8450-a6d07282a087"
      },
      "execution_count": null,
      "outputs": [
        {
          "output_type": "stream",
          "name": "stdout",
          "text": [
            "(120, 4)\n",
            "(120,)\n",
            "[0.93333333 0.96666667 0.93333333 0.9        1.        ]\n",
            "0.9466666666666665\n"
          ]
        }
      ]
    },
    {
      "cell_type": "code",
      "source": [
        "#Falta comprender el proceso que se siguió en esta solución:\n",
        "\n",
        "from IPython.core.display import Pretty\n",
        "import numpy as np\n",
        "Al=[0]*2\n",
        "Bl=[0]*2\n",
        "print(Al)\n",
        "X=np.array([[0,0],[0,1],[1,0],[1,1]])\n",
        "Al[0]=np.array([[1/2,-1/3],[1/2,-1/3]])\n",
        "Bl[0]=np.array([-1/2,1/2])\n",
        "Al[1]=np.array([[1/3],[1/3]])\n",
        "Bl[1]=np.array([-1/2])\n",
        "step=lambda x:(x>=0)\n",
        "\n",
        "Xl=[]\n",
        "x=X\n",
        "for L in range(2):\n",
        "  x=step(np.dot(x,Al[L])+Bl[L])\n",
        "  Xl.append(x)\n",
        "print(Xl)\n"
      ],
      "metadata": {
        "colab": {
          "base_uri": "https://localhost:8080/"
        },
        "id": "imPegXiqdZ6D",
        "outputId": "0a27f0e9-1cfa-4ab8-ff12-c9ecc86184ff"
      },
      "execution_count": null,
      "outputs": [
        {
          "output_type": "stream",
          "name": "stdout",
          "text": [
            "[0, 0]\n",
            "[array([[False,  True],\n",
            "       [ True,  True],\n",
            "       [ True,  True],\n",
            "       [ True, False]]), array([[False],\n",
            "       [ True],\n",
            "       [ True],\n",
            "       [False]])]\n"
          ]
        }
      ]
    },
    {
      "cell_type": "code",
      "source": [],
      "metadata": {
        "id": "al0jSBAydsA1"
      },
      "execution_count": null,
      "outputs": []
    }
  ]
}